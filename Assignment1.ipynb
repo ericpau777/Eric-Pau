{
 "cells": [
  {
   "cell_type": "code",
   "execution_count": 12,
   "id": "67dd4659",
   "metadata": {},
   "outputs": [],
   "source": [
    "def formula(x,y,n):\n",
    "    # return the bracelet starting with x and y for n more numbers\n",
    "    print(x, end = ' ')\n",
    "    print(y, end = ' ')\n",
    "    x1 = x\n",
    "    y1 = y\n",
    "    for i in range(n):\n",
    "        print((x1 + y1) % 10, end = ' ')\n",
    "        tempx = x1\n",
    "        tempy = y1\n",
    "        x1 = tempy\n",
    "        y1 = (tempx + tempy) % 10\n",
    "        # if statement to end the bracelet if the same values occur again\n",
    "        if x1 == x and y1 == y:\n",
    "            print('...')\n",
    "            print(\"Period of the bracelet is: \")\n",
    "            return print(i+1)"
   ]
  },
  {
   "cell_type": "code",
   "execution_count": 13,
   "id": "0ae63f61",
   "metadata": {},
   "outputs": [
    {
     "name": "stdout",
     "output_type": "stream",
     "text": [
      "1 5 6 1 7 8 5 3 8 1 9 0 9 9 8 7 5 2 7 9 6 5 1 6 7 3 0 3 3 6 9 5 4 9 3 2 5 7 2 9 1 0 1 1 2 3 5 8 3 1 4 5 9 4 3 7 0 7 7 4 1 5 ...\n",
      "Period of the bracelet is: \n",
      "60\n"
     ]
    }
   ],
   "source": [
    "formula(1,5, 100)"
   ]
  },
  {
   "cell_type": "code",
   "execution_count": 14,
   "id": "a7839f88",
   "metadata": {},
   "outputs": [],
   "source": [
    "def period(x,y,n):\n",
    "    # return the bracelet length only\n",
    "    x1 = x\n",
    "    y1 = y\n",
    "    for i in range(n):\n",
    "        tempx = x1\n",
    "        tempy = y1\n",
    "        x1 = tempy\n",
    "        y1 = (tempx + tempy) % 10\n",
    "        # if statement to end the bracelet if the same values occur again\n",
    "        if x1 == x and y1 == y:\n",
    "            return i+1\n",
    "    return 0"
   ]
  },
  {
   "cell_type": "code",
   "execution_count": 15,
   "id": "6262cc17",
   "metadata": {},
   "outputs": [
    {
     "data": {
      "text/plain": [
       "60"
      ]
     },
     "execution_count": 15,
     "metadata": {},
     "output_type": "execute_result"
    }
   ],
   "source": [
    "period(1,4,100)"
   ]
  },
  {
   "cell_type": "code",
   "execution_count": 16,
   "id": "a746a96f",
   "metadata": {},
   "outputs": [
    {
     "name": "stdout",
     "output_type": "stream",
     "text": [
      "1, 60, 20, 60, 20, 3, 20, 60, 20, 60, 60, 60, 60, 12, 60, 60, 60, 60, 12, 60, 20, 12, 20, 60, 20, 60, 4, 60, 20, 60, 60, 60, 60, 60, 12, 60, 60, 60, 60, 12, 20, 60, 4, 60, 20, 60, 20, 12, 20, 60, 3, 60, 60, 60, 60, 3, 60, 60, 60, 60, 20, 60, 20, 12, 20, 60, 20, 60, 4, 60, 60, 12, 60, 60, 60, 60, 12, 60, 60, 60, 20, 60, 20, 60, 4, 60, 20, 60, 20, 12, 60, 60, 12, 60, 60, 60, 60, 12, 60, 60,  \n",
      "Count of bracelets with period 1,3,4,12,20,60 is:\n",
      "1 3 4 12 20 60\n"
     ]
    }
   ],
   "source": [
    "count1, count3, count4, count12, count20, count60  = 0,0,0,0,0,0\n",
    "for i in range(10):\n",
    "    for j in range(10):\n",
    "        print(period(i, j, 100), end = ', ')\n",
    "        if period(i,j,100) == 1:\n",
    "            count1 += 1\n",
    "        if period(i,j,100) == 3:\n",
    "            count3 += 1\n",
    "        if period(i,j,100) == 4:\n",
    "            count4 += 1\n",
    "        if period(i,j,100) == 12:\n",
    "            count12 += 1\n",
    "        if period(i,j,100) == 20:\n",
    "            count20 += 1\n",
    "        if period(i,j,100) == 60:\n",
    "            count60 += 1\n",
    "print(\" \")\n",
    "print(\"Count of bracelets with period 1,3,4,12,20,60 is:\")\n",
    "print(count1, count3, count4, count12, count20, count60)"
   ]
  },
  {
   "cell_type": "code",
   "execution_count": 17,
   "id": "2e30efe7",
   "metadata": {},
   "outputs": [],
   "source": [
    "period = [1, 60, 20, 60, 20, 3, 20, 60, 20, 60, 60, 60, 60, 12, 60, 60, 60, 60, 12, 60, 20, 12, 20, 60, 20, 60, 4, 60, 20, 60, 60, 60, 60, 60, 12, 60, 60, 60, 60, 12, 20, 60, 4, 60, 20, 60, 20, 12, 20, 60, 3, 60, 60, 60, 60, 3, 60, 60, 60, 60, 20, 60, 20, 12, 20, 60, 20, 60, 4, 60, 60, 12, 60, 60, 60, 60, 12, 60, 60, 60, 20, 60, 20, 60, 4, 60, 20, 60, 20, 12, 60, 60, 12, 60, 60, 60, 60, 12, 60, 60]"
   ]
  },
  {
   "cell_type": "code",
   "execution_count": 18,
   "id": "e8c0513b",
   "metadata": {},
   "outputs": [
    {
     "name": "stdout",
     "output_type": "stream",
     "text": [
      "0 5 5 0 5 ...\n",
      "Period of the bracelet is: \n",
      "3\n",
      "5 0 5 5 0 ...\n",
      "Period of the bracelet is: \n",
      "3\n",
      "5 5 0 5 5 ...\n",
      "Period of the bracelet is: \n",
      "3\n"
     ]
    }
   ],
   "source": [
    "for i in range(len(period)):\n",
    "    if period[i] == 3:\n",
    "        formula(i//10, i%10, 100)"
   ]
  },
  {
   "cell_type": "code",
   "execution_count": 19,
   "id": "205fc9c0",
   "metadata": {},
   "outputs": [
    {
     "name": "stdout",
     "output_type": "stream",
     "text": [
      "2 6 8 4 2 6 ...\n",
      "Period of the bracelet is: \n",
      "4\n",
      "4 2 6 8 4 2 ...\n",
      "Period of the bracelet is: \n",
      "4\n",
      "6 8 4 2 6 8 ...\n",
      "Period of the bracelet is: \n",
      "4\n",
      "8 4 2 6 8 4 ...\n",
      "Period of the bracelet is: \n",
      "4\n"
     ]
    }
   ],
   "source": [
    "for i in range(len(period)):\n",
    "    if period[i] == 4:\n",
    "        formula(i//10, i%10, 100)"
   ]
  },
  {
   "cell_type": "code",
   "execution_count": 20,
   "id": "fe44c45f",
   "metadata": {},
   "outputs": [
    {
     "data": {
      "text/plain": [
       "100"
      ]
     },
     "execution_count": 20,
     "metadata": {},
     "output_type": "execute_result"
    }
   ],
   "source": [
    "len(period)"
   ]
  },
  {
   "cell_type": "code",
   "execution_count": 22,
   "id": "cd46f4ba",
   "metadata": {},
   "outputs": [
    {
     "name": "stdout",
     "output_type": "stream",
     "text": [
      "3 7 0 7 7 4 1 5 6 1 7 8 5 3 8 1 9 0 9 9 8 7 5 2 7 9 6 5 1 6 7 3 0 3 3 6 9 5 4 9 3 2 5 7 2 9 1 0 1 1 2 3 5 8 3 1 4 5 9 4 3 7 ...\n",
      "Period of the bracelet is: \n",
      "60\n"
     ]
    }
   ],
   "source": [
    "formula(3,7,100)"
   ]
  },
  {
   "cell_type": "code",
   "execution_count": 25,
   "id": "40db6e76",
   "metadata": {},
   "outputs": [
    {
     "name": "stdout",
     "output_type": "stream",
     "text": [
      "6 9 5 4 9 3 2 5 7 2 9 1 0 1 1 2 3 5 8 3 1 4 5 9 4 3 7 0 7 7 4 1 5 6 1 7 8 5 3 8 1 9 0 9 9 8 7 5 2 7 9 6 5 1 6 7 3 0 3 3 6 9 ...\n",
      "Period of the bracelet is: \n",
      "60\n"
     ]
    }
   ],
   "source": [
    "formula(6,9,100)"
   ]
  },
  {
   "cell_type": "code",
   "execution_count": null,
   "id": "e48a780a",
   "metadata": {},
   "outputs": [],
   "source": []
  }
 ],
 "metadata": {
  "kernelspec": {
   "display_name": "Python 3 (ipykernel)",
   "language": "python",
   "name": "python3"
  },
  "language_info": {
   "codemirror_mode": {
    "name": "ipython",
    "version": 3
   },
   "file_extension": ".py",
   "mimetype": "text/x-python",
   "name": "python",
   "nbconvert_exporter": "python",
   "pygments_lexer": "ipython3",
   "version": "3.9.7"
  }
 },
 "nbformat": 4,
 "nbformat_minor": 5
}
