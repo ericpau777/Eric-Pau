{
 "cells": [
  {
   "cell_type": "code",
   "execution_count": 1,
   "id": "c1abc55e",
   "metadata": {},
   "outputs": [],
   "source": [
    "import numpy as np\n",
    "import random \n",
    "import math"
   ]
  },
  {
   "cell_type": "code",
   "execution_count": 2,
   "id": "ffbbc859",
   "metadata": {},
   "outputs": [],
   "source": [
    "def exercise():\n",
    "    # Runs an exercise starting at 1 and stops once we reach or crosses number 25\n",
    "    # Returns true if we land on 25, false otherwise\n",
    "    n = 1 # Starting point\n",
    "    while n < 25:\n",
    "        n += random.randrange(1, 3)\n",
    "    \n",
    "    if n == 25:\n",
    "        return True\n",
    "    else:\n",
    "        return False"
   ]
  },
  {
   "cell_type": "code",
   "execution_count": 3,
   "id": "fe356696",
   "metadata": {},
   "outputs": [],
   "source": [
    "def simulations(N):\n",
    "    # Run the exercise for N times\n",
    "    # Returns the approximated probability \n",
    "    count = 0\n",
    "    for _ in range(N):\n",
    "        run = exercise()\n",
    "        if run == True:\n",
    "            count += 1\n",
    "    return count / N"
   ]
  },
  {
   "cell_type": "code",
   "execution_count": 4,
   "id": "b15fcb08",
   "metadata": {},
   "outputs": [
    {
     "data": {
      "text/plain": [
       "0.66644"
      ]
     },
     "execution_count": 4,
     "metadata": {},
     "output_type": "execute_result"
    }
   ],
   "source": [
    "simulations(100000)"
   ]
  },
  {
   "cell_type": "code",
   "execution_count": 5,
   "id": "17152ed4",
   "metadata": {},
   "outputs": [
    {
     "name": "stdout",
     "output_type": "stream",
     "text": [
      "75025\n"
     ]
    }
   ],
   "source": [
    "s24 = 0\n",
    "for k in range(13):\n",
    "    num = math.factorial(24 - k)\n",
    "    denom = math.factorial(k) * math.factorial(24 - 2*k)\n",
    "    s24 += int(num / denom) \n",
    "print(s24)"
   ]
  },
  {
   "cell_type": "code",
   "execution_count": 6,
   "id": "0487c352",
   "metadata": {},
   "outputs": [
    {
     "name": "stdout",
     "output_type": "stream",
     "text": [
      "46368\n"
     ]
    }
   ],
   "source": [
    "s23 = 0\n",
    "for k in range(12):\n",
    "    num = math.factorial(23 - k)\n",
    "    denom = math.factorial(k) * math.factorial(23 - 2*k)\n",
    "    s23 += int(num / denom) \n",
    "print(s23)"
   ]
  },
  {
   "cell_type": "code",
   "execution_count": 7,
   "id": "7f943dcb",
   "metadata": {},
   "outputs": [
    {
     "data": {
      "text/plain": [
       "0.6180339887802427"
      ]
     },
     "execution_count": 7,
     "metadata": {},
     "output_type": "execute_result"
    }
   ],
   "source": [
    "# P_k = \n",
    "s24 / (s24 + s23)"
   ]
  },
  {
   "cell_type": "code",
   "execution_count": 8,
   "id": "05482fb1",
   "metadata": {},
   "outputs": [
    {
     "data": {
      "text/plain": [
       "0.04908601121975731"
      ]
     },
     "execution_count": 8,
     "metadata": {},
     "output_type": "execute_result"
    }
   ],
   "source": [
    "# The difference in the solutions of the two methods\n",
    "0.66712 - 0.6180339887802427"
   ]
  },
  {
   "cell_type": "code",
   "execution_count": 9,
   "id": "0dc6bbf7",
   "metadata": {},
   "outputs": [],
   "source": [
    "# Trying new approach\n",
    "def P(k):\n",
    "    # The recurring formula in conjecture 1\n",
    "    if k == 2:\n",
    "        return 0.5\n",
    "    if k == 1:\n",
    "        return 1\n",
    "    return 0.5*(P(k-1) + P(k-2))"
   ]
  },
  {
   "cell_type": "code",
   "execution_count": 10,
   "id": "3f9f0fcc",
   "metadata": {},
   "outputs": [
    {
     "data": {
      "text/plain": [
       "0.6666666865348816"
      ]
     },
     "execution_count": 10,
     "metadata": {},
     "output_type": "execute_result"
    }
   ],
   "source": [
    "P(25)"
   ]
  },
  {
   "cell_type": "code",
   "execution_count": 17,
   "id": "54e530fe",
   "metadata": {},
   "outputs": [],
   "source": [
    "def closed(k):\n",
    "    # The closed formula in conjecture 2\n",
    "    return (2/3) * (1 - (-0.5)**k)"
   ]
  },
  {
   "cell_type": "code",
   "execution_count": 18,
   "id": "14cd876c",
   "metadata": {
    "scrolled": true
   },
   "outputs": [
    {
     "data": {
      "text/plain": [
       "0.75"
      ]
     },
     "execution_count": 18,
     "metadata": {},
     "output_type": "execute_result"
    }
   ],
   "source": [
    "closed(3)"
   ]
  },
  {
   "cell_type": "code",
   "execution_count": 19,
   "id": "d8b122b3",
   "metadata": {},
   "outputs": [
    {
     "data": {
      "text/plain": [
       "0.6666666865348816"
      ]
     },
     "execution_count": 19,
     "metadata": {},
     "output_type": "execute_result"
    }
   ],
   "source": [
    "closed(25)"
   ]
  }
 ],
 "metadata": {
  "kernelspec": {
   "display_name": "Python 3 (ipykernel)",
   "language": "python",
   "name": "python3"
  },
  "language_info": {
   "codemirror_mode": {
    "name": "ipython",
    "version": 3
   },
   "file_extension": ".py",
   "mimetype": "text/x-python",
   "name": "python",
   "nbconvert_exporter": "python",
   "pygments_lexer": "ipython3",
   "version": "3.9.18"
  }
 },
 "nbformat": 4,
 "nbformat_minor": 5
}
