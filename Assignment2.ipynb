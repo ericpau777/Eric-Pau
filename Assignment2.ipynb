{
 "cells": [
  {
   "cell_type": "code",
   "execution_count": 1,
   "id": "ef7fb44b",
   "metadata": {},
   "outputs": [],
   "source": [
    "import numpy as np\n",
    "import math\n",
    "import itertools"
   ]
  },
  {
   "cell_type": "code",
   "execution_count": 2,
   "id": "9b7614d7",
   "metadata": {},
   "outputs": [],
   "source": [
    "def game(n):\n",
    "    # Implementing the game, taking n as input\n",
    "    Mat = np.ones(n**2)*2 # choose two to be arbitrary\n",
    "    Mat = Mat.reshape(n,n)\n",
    "    turn = input('Which player goes first? Please type 0 or 1: ')\n",
    "    for i in range(n**2):\n",
    "        print(\"Player\", turn, \"please enter: \")\n",
    "        row = int(input('row = '))\n",
    "        col = int(input('column = '))       \n",
    "        if Mat[row][col] == 2:\n",
    "            Mat[row][col] = turn\n",
    "        else:\n",
    "            print(\"Invalid entries, please try again.\")\n",
    "            return 0\n",
    "        if turn == 1:\n",
    "            turn = 0\n",
    "        else: \n",
    "            turn = 1\n",
    "        print(Mat)\n",
    "    print(\"The determinant of the resultant matrix is:\")\n",
    "    return np.linalg.det(Mat)"
   ]
  },
  {
   "cell_type": "code",
   "execution_count": 3,
   "id": "f7f761b2",
   "metadata": {},
   "outputs": [
    {
     "name": "stdout",
     "output_type": "stream",
     "text": [
      "Which player goes first? Please type 0 or 1: 0\n",
      "Player 0 please enter: \n",
      "row = 1\n",
      "column = 1\n",
      "[[2. 2.]\n",
      " [2. 0.]]\n",
      "Player 1 please enter: \n",
      "row = 0\n",
      "column = 1\n",
      "[[2. 1.]\n",
      " [2. 0.]]\n",
      "Player 0 please enter: \n",
      "row = 1\n",
      "column = 0\n",
      "[[2. 1.]\n",
      " [0. 0.]]\n",
      "Player 1 please enter: \n",
      "row = 0\n",
      "column = 0\n",
      "[[1. 1.]\n",
      " [0. 0.]]\n",
      "The determinant of the resultant matrix is:\n"
     ]
    },
    {
     "data": {
      "text/plain": [
       "0.0"
      ]
     },
     "execution_count": 3,
     "metadata": {},
     "output_type": "execute_result"
    }
   ],
   "source": [
    "game(2)"
   ]
  },
  {
   "cell_type": "code",
   "execution_count": 4,
   "id": "52075907",
   "metadata": {},
   "outputs": [],
   "source": [
    "def game_even(n):\n",
    "    # returns the number of non-zero determinant matrices\n",
    "    # for n is even\n",
    "    count = 0 # Counter for the number of non-zero det matrices\n",
    "    for comb in itertools.combinations(np.arange(n**2), int(n**2/2)):\n",
    "        mat = np.array([0]*(n**2))\n",
    "        for k in comb:\n",
    "            mat[k] = 1\n",
    "        mat = mat.reshape(n,n)\n",
    "        if np.linalg.det(mat) != 0:\n",
    "            count += 1\n",
    "            # print(mat)\n",
    "    # print(\"The number of non-zero determinant matrices is:\") \n",
    "    return count\n",
    "        "
   ]
  },
  {
   "cell_type": "code",
   "execution_count": 5,
   "id": "e2d5c980",
   "metadata": {},
   "outputs": [],
   "source": [
    "def prob(count, n):\n",
    "    return count / (math.comb(n**2, int((n**2)/2)))"
   ]
  },
  {
   "cell_type": "code",
   "execution_count": 6,
   "id": "a17886eb",
   "metadata": {},
   "outputs": [
    {
     "data": {
      "text/plain": [
       "2"
      ]
     },
     "execution_count": 6,
     "metadata": {},
     "output_type": "execute_result"
    }
   ],
   "source": [
    "game_even(2)"
   ]
  },
  {
   "cell_type": "code",
   "execution_count": 7,
   "id": "87faa79e",
   "metadata": {},
   "outputs": [
    {
     "data": {
      "text/plain": [
       "5328"
      ]
     },
     "execution_count": 7,
     "metadata": {},
     "output_type": "execute_result"
    }
   ],
   "source": [
    "game_even(4)"
   ]
  },
  {
   "cell_type": "code",
   "execution_count": 8,
   "id": "43127a09",
   "metadata": {},
   "outputs": [
    {
     "data": {
      "text/plain": [
       "0.3333333333333333"
      ]
     },
     "execution_count": 8,
     "metadata": {},
     "output_type": "execute_result"
    }
   ],
   "source": [
    "prob(game_even(2), 2)"
   ]
  },
  {
   "cell_type": "code",
   "execution_count": 9,
   "id": "ac0e1910",
   "metadata": {
    "scrolled": false
   },
   "outputs": [
    {
     "data": {
      "text/plain": [
       "0.413986013986014"
      ]
     },
     "execution_count": 9,
     "metadata": {},
     "output_type": "execute_result"
    }
   ],
   "source": [
    "prob(game_even(4), 4)"
   ]
  },
  {
   "cell_type": "code",
   "execution_count": 10,
   "id": "bff74797",
   "metadata": {},
   "outputs": [],
   "source": [
    "# n = 6\n",
    "# prob(game_even(n), n)\n",
    "# This takes too much time to compile"
   ]
  },
  {
   "cell_type": "code",
   "execution_count": 11,
   "id": "ca7a00dc",
   "metadata": {},
   "outputs": [],
   "source": [
    "def game_odd(n, i):\n",
    "    # returns the number of non-zero determinant matrices\n",
    "    # for n is odd\n",
    "    count = 0 # Counter for the number of non-zero det matrices\n",
    "    combinations = itertools.combinations(np.arange(n**2), int(np.floor(n**2/2)))\n",
    "    for comb in combinations:\n",
    "        mat = np.array([0]*(n**2))\n",
    "        for k in comb:\n",
    "            mat[k] = 1\n",
    "        mat = mat.reshape(n,n)\n",
    "        if np.linalg.det(mat) != 0:\n",
    "            count += 1\n",
    "            # print(mat)\n",
    "    # print(\"The number of non-zero determinant matrices is:\") \n",
    "    return count"
   ]
  },
  {
   "cell_type": "code",
   "execution_count": 12,
   "id": "1e9ab422",
   "metadata": {},
   "outputs": [
    {
     "data": {
      "text/plain": [
       "0"
      ]
     },
     "execution_count": 12,
     "metadata": {},
     "output_type": "execute_result"
    }
   ],
   "source": [
    "game_odd(1,1)"
   ]
  },
  {
   "cell_type": "code",
   "execution_count": 13,
   "id": "a3758a03",
   "metadata": {},
   "outputs": [
    {
     "data": {
      "text/plain": [
       "0"
      ]
     },
     "execution_count": 13,
     "metadata": {},
     "output_type": "execute_result"
    }
   ],
   "source": [
    "game_odd(1,2)"
   ]
  },
  {
   "cell_type": "code",
   "execution_count": 14,
   "id": "2172d157",
   "metadata": {},
   "outputs": [
    {
     "data": {
      "text/plain": [
       "36"
      ]
     },
     "execution_count": 14,
     "metadata": {},
     "output_type": "execute_result"
    }
   ],
   "source": [
    "game_odd(3,1)"
   ]
  },
  {
   "cell_type": "code",
   "execution_count": 15,
   "id": "de000b11",
   "metadata": {},
   "outputs": [
    {
     "data": {
      "text/plain": [
       "36"
      ]
     },
     "execution_count": 15,
     "metadata": {},
     "output_type": "execute_result"
    }
   ],
   "source": [
    "game_odd(3,2)"
   ]
  },
  {
   "cell_type": "code",
   "execution_count": 16,
   "id": "cd384c51",
   "metadata": {
    "scrolled": true
   },
   "outputs": [
    {
     "data": {
      "text/plain": [
       "2100150"
      ]
     },
     "execution_count": 16,
     "metadata": {},
     "output_type": "execute_result"
    }
   ],
   "source": [
    "# This takes awhile\n",
    "game_odd(5,1)"
   ]
  },
  {
   "cell_type": "code",
   "execution_count": 17,
   "id": "3f9a5653",
   "metadata": {},
   "outputs": [
    {
     "data": {
      "text/plain": [
       "2100150"
      ]
     },
     "execution_count": 17,
     "metadata": {},
     "output_type": "execute_result"
    }
   ],
   "source": [
    "# This also takes awhile \n",
    "game_odd(5,2)"
   ]
  },
  {
   "cell_type": "code",
   "execution_count": 18,
   "id": "79e141ab",
   "metadata": {},
   "outputs": [],
   "source": [
    "def prob_odd(count, n):\n",
    "    return count / (math.comb(n**2, int(math.floor((n**2)/2))))"
   ]
  },
  {
   "cell_type": "code",
   "execution_count": 19,
   "id": "372a7d4c",
   "metadata": {
    "scrolled": true
   },
   "outputs": [
    {
     "data": {
      "text/plain": [
       "0.5714285714285714"
      ]
     },
     "execution_count": 19,
     "metadata": {},
     "output_type": "execute_result"
    }
   ],
   "source": [
    "prob_odd(72, 3)"
   ]
  },
  {
   "cell_type": "code",
   "execution_count": 20,
   "id": "56ff67db",
   "metadata": {},
   "outputs": [
    {
     "data": {
      "text/plain": [
       "0.2857142857142857"
      ]
     },
     "execution_count": 20,
     "metadata": {},
     "output_type": "execute_result"
    }
   ],
   "source": [
    "prob_odd(36, 3)"
   ]
  },
  {
   "cell_type": "code",
   "execution_count": 21,
   "id": "420666ea",
   "metadata": {},
   "outputs": [
    {
     "data": {
      "text/plain": [
       "0.4485018172028537"
      ]
     },
     "execution_count": 21,
     "metadata": {},
     "output_type": "execute_result"
    }
   ],
   "source": [
    "prob_odd(2332344, 5)"
   ]
  },
  {
   "cell_type": "code",
   "execution_count": 22,
   "id": "78dc9fb2",
   "metadata": {},
   "outputs": [
    {
     "data": {
      "text/plain": [
       "0.4038517008634117"
      ]
     },
     "execution_count": 22,
     "metadata": {},
     "output_type": "execute_result"
    }
   ],
   "source": [
    "prob_odd(2100150, 5)"
   ]
  },
  {
   "cell_type": "code",
   "execution_count": 23,
   "id": "aefe44bb",
   "metadata": {},
   "outputs": [
    {
     "name": "stdout",
     "output_type": "stream",
     "text": [
      "[[2. 2. 2.]\n",
      " [2. 0. 2.]\n",
      " [2. 2. 2.]]\n"
     ]
    }
   ],
   "source": [
    "Mat = np.ones(9)*2\n",
    "Mat = Mat.reshape(3,3)\n",
    "Mat[1][1] = 0\n",
    "print(Mat)"
   ]
  },
  {
   "cell_type": "code",
   "execution_count": null,
   "id": "2a1bf0ba",
   "metadata": {},
   "outputs": [],
   "source": []
  }
 ],
 "metadata": {
  "kernelspec": {
   "display_name": "Python 3 (ipykernel)",
   "language": "python",
   "name": "python3"
  },
  "language_info": {
   "codemirror_mode": {
    "name": "ipython",
    "version": 3
   },
   "file_extension": ".py",
   "mimetype": "text/x-python",
   "name": "python",
   "nbconvert_exporter": "python",
   "pygments_lexer": "ipython3",
   "version": "3.9.7"
  }
 },
 "nbformat": 4,
 "nbformat_minor": 5
}
