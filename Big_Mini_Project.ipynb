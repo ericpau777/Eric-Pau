{
 "cells": [
  {
   "cell_type": "code",
   "execution_count": 1,
   "id": "f6c9c437",
   "metadata": {},
   "outputs": [],
   "source": [
    "import numpy as np"
   ]
  },
  {
   "cell_type": "markdown",
   "id": "02d5b0c8",
   "metadata": {},
   "source": [
    "NOTE: Throughout this note book. The glasses will be numbered from $1$ to $n$ for the player (as in the rubric), but numbered from $0$ to $n-1$ for the implementation of the code as is the coonvention used for Python."
   ]
  },
  {
   "cell_type": "code",
   "execution_count": 4,
   "id": "558cd9c0",
   "metadata": {},
   "outputs": [],
   "source": [
    "def neighbours(circle):\n",
    "    # return the indexes of the neighboours of each glass\n",
    "    n = len(circle)\n",
    "    neigh = [[n-1, 1]]\n",
    "    for i in range(1, n-1): # For glass number 2, ..., n-1\n",
    "        adj = [i-1, i+1]\n",
    "        neigh.append(adj)\n",
    "    neigh.append([n-2, 0])\n",
    "    return neigh"
   ]
  },
  {
   "cell_type": "code",
   "execution_count": 5,
   "id": "05d71857",
   "metadata": {},
   "outputs": [
    {
     "name": "stdout",
     "output_type": "stream",
     "text": [
      "Neighbours using Python indexing: [[4, 1], [0, 2], [1, 3], [2, 4], [3, 0]]\n",
      "The neighbours of glass 5 are glass number 4 and 1\n"
     ]
    }
   ],
   "source": [
    "# Check logic for neighbours: \n",
    "arr = [0, 0.2, 0.3, 0.1, 0.1]\n",
    "\n",
    "print(\"Neighbours using Python indexing:\", neighbours(arr))\n",
    "\n",
    "print(\"The neighbours of glass 5 are glass number\", neighbours(arr)[5-1][0]+1, \"and\", neighbours(arr)[5-1][1]+1)"
   ]
  },
  {
   "cell_type": "code",
   "execution_count": 6,
   "id": "48151d22",
   "metadata": {},
   "outputs": [],
   "source": [
    "def spill(Circling):\n",
    "    # Function that checks for any spillage\n",
    "    return not all(i <= 1 for i in Circling)"
   ]
  },
  {
   "cell_type": "code",
   "execution_count": 7,
   "id": "850822a4",
   "metadata": {},
   "outputs": [
    {
     "data": {
      "text/plain": [
       "True"
      ]
     },
     "execution_count": 7,
     "metadata": {},
     "output_type": "execute_result"
    }
   ],
   "source": [
    "# Cehck logic for spill:\n",
    "spill([0, 0.2, 1.2, 0.7])"
   ]
  },
  {
   "cell_type": "code",
   "execution_count": 8,
   "id": "c96970a0",
   "metadata": {},
   "outputs": [],
   "source": [
    "def Ali(circle):\n",
    "    # Given the current state of the circle,\n",
    "    # Prompt Ali to make a move\n",
    "    print(\"Ali, please enter the amount of pints of water you would like to pour for each glass!\")\n",
    "    amount = [float(x) for x in input('Amount (pints): ').split()]\n",
    "    \n",
    "    # Check for invalid entries\n",
    "    if abs(sum(amount) - 0.5) > 10E-6:\n",
    "        print(\"Invalid Entry! The sum of the amount should be 0.5!\")\n",
    "        print(\"Please try again.\")\n",
    "        return 0\n",
    "    \n",
    "    for i in amount:\n",
    "        if i < 0:\n",
    "            print(\"Invalid Entry! Ali cannot pour water out!\")\n",
    "            print(\"Please try again.\")\n",
    "            return 0\n",
    "    \n",
    "    for i in range(len(circle)):\n",
    "        circle[i] += amount[i]\n",
    "    \n",
    "    return circle"
   ]
  },
  {
   "cell_type": "code",
   "execution_count": 9,
   "id": "ecd99408",
   "metadata": {},
   "outputs": [
    {
     "name": "stdout",
     "output_type": "stream",
     "text": [
      "Ali, please enter the amount of pints of water you would like to pour for each glass!\n",
      "Amount (pints): 0.2 0.2 0.1 0\n"
     ]
    },
    {
     "data": {
      "text/plain": [
       "[0.2, 0.2, 0.1, 0.4]"
      ]
     },
     "execution_count": 9,
     "metadata": {},
     "output_type": "execute_result"
    }
   ],
   "source": [
    "# Check logic for Ali:\n",
    "arr = [0, 0, 0, 0.4]\n",
    "Ali(arr)"
   ]
  },
  {
   "cell_type": "code",
   "execution_count": 10,
   "id": "790a1efe",
   "metadata": {},
   "outputs": [
    {
     "name": "stdout",
     "output_type": "stream",
     "text": [
      "Ali, please enter the amount of pints of water you would like to pour for each glass!\n",
      "Amount (pints): 0.1 0.1 0.1 0.2\n"
     ]
    },
    {
     "data": {
      "text/plain": [
       "[0.30000000000000004, 0.30000000000000004, 0.2, 0.6000000000000001]"
      ]
     },
     "execution_count": 10,
     "metadata": {},
     "output_type": "execute_result"
    }
   ],
   "source": [
    "Ali(arr)"
   ]
  },
  {
   "cell_type": "code",
   "execution_count": 11,
   "id": "d4156abb",
   "metadata": {},
   "outputs": [],
   "source": [
    "def Beth(circle):\n",
    "    # Beth bot with strategy as defined in the rubric\n",
    "    check = [] # Initialise the list to store the index of any glass with more than 0.5 pint of water\n",
    "    for i in range(len(circle)):\n",
    "        if circle[i] >= 0.5:\n",
    "            check.append(i)\n",
    "    if len(check) == 2: # Thanks to the CheckMate function below, we may assume they are adjacent\n",
    "        circle[check[0]] = 0\n",
    "        circle[check[1]] = 0\n",
    "    elif len(check) == 1:\n",
    "        left, right = neighbours(circle[check[0]])[0], neighbours(circle[check[0]])[1]\n",
    "        if left > right:\n",
    "            circle[left] = 0\n",
    "        else:\n",
    "            circle[right] = 0\n",
    "        circle[check[0]] = 0\n",
    "    else:\n",
    "        ttl = []\n",
    "        for i in range(len(circle)):\n",
    "            adsum = circle[i] + circle[neighbours(circle)[i][1]]\n",
    "            ttl.append(adsum)\n",
    "        idx = ttl.index(max(ttl))\n",
    "        circle[idx] = 0\n",
    "        circle[neighbours(circle)[idx][1]] = 0\n",
    "    \n",
    "    return circle\n",
    "        \n",
    "    "
   ]
  },
  {
   "cell_type": "code",
   "execution_count": 12,
   "id": "2b8a73ee",
   "metadata": {},
   "outputs": [
    {
     "data": {
      "text/plain": [
       "[0, 0.1, 0.1, 0]"
      ]
     },
     "execution_count": 12,
     "metadata": {},
     "output_type": "execute_result"
    }
   ],
   "source": [
    "# Check logic for Beth\n",
    "c = [0.2, 0.1, 0.1, 0.2]\n",
    "Beth(c)"
   ]
  },
  {
   "cell_type": "code",
   "execution_count": 13,
   "id": "c6703cdb",
   "metadata": {},
   "outputs": [],
   "source": [
    "def CheckMate(circle):\n",
    "    # Check if Beth is check mated\n",
    "    checks = []\n",
    "    for i in range(len(circle)):\n",
    "        if circle[i] > 0.5:\n",
    "            checks.append(i)\n",
    "            \n",
    "    \n",
    "    if len(checks) > 2:\n",
    "        return True\n",
    "    elif len(checks) == 2:\n",
    "        idx1, idx2 = checks[0], checks[1]\n",
    "        if idx2 == neighbours(circle)[idx1][0] or idx2 == neighbours(circle)[idx1][1]: # Check if they are neighbours\n",
    "            return False\n",
    "        else:\n",
    "            return True\n",
    "    else:\n",
    "        return False\n",
    "        "
   ]
  },
  {
   "cell_type": "code",
   "execution_count": 14,
   "id": "0aefa4bc",
   "metadata": {},
   "outputs": [
    {
     "name": "stdout",
     "output_type": "stream",
     "text": [
      "True\n",
      "False\n"
     ]
    }
   ],
   "source": [
    "# Check logic for CheckMate\n",
    "arr = [0, 0.51, 0.2, 0.6, 0.1]\n",
    "arr2 = [0, 0, 0.51, 0.50001, 0.2]\n",
    "print(CheckMate(arr))\n",
    "print(CheckMate(arr2))"
   ]
  },
  {
   "cell_type": "code",
   "execution_count": 15,
   "id": "6561a3a5",
   "metadata": {},
   "outputs": [],
   "source": [
    "def EqStraight(pos1, pos2):\n",
    "    # Check if two positions are equal without reflection\n",
    "    ret = False\n",
    "    n = len(pos1)\n",
    "    for i in range(n):\n",
    "        equal = 0\n",
    "        for j in range(n):\n",
    "            if pos1[(j + i)%n] == pos2[j]:\n",
    "                equal += 1\n",
    "        if equal == n:\n",
    "            ret = True\n",
    "\n",
    "    return ret\n",
    "\n",
    "def EqReflect(pos1, pos2):\n",
    "    # Check if two positions are equal when reflected\n",
    "    list(pos1).reverse()\n",
    "    return EqStraight(pos1, pos2)\n",
    "\n",
    "def Equal(pos1, pos2):\n",
    "    test1 = EqStraight(pos1, pos2)\n",
    "    test2 = EqReflect(pos1, pos2)\n",
    "    return test1 or test2"
   ]
  },
  {
   "cell_type": "code",
   "execution_count": 16,
   "id": "351c41bf",
   "metadata": {},
   "outputs": [
    {
     "data": {
      "text/plain": [
       "False"
      ]
     },
     "execution_count": 16,
     "metadata": {},
     "output_type": "execute_result"
    }
   ],
   "source": [
    "p1 = [0, 0, 0.23, 0.68]\n",
    "p2 = [0, 0.68, 0.23, 0]\n",
    "Equal(p1, p2)"
   ]
  },
  {
   "cell_type": "code",
   "execution_count": 17,
   "id": "46feb079",
   "metadata": {},
   "outputs": [
    {
     "name": "stdout",
     "output_type": "stream",
     "text": [
      "[array([0., 0., 0.])]\n",
      "[0. 0. 0.]\n",
      "Ali's turn!\n",
      "Ali, please enter the amount of pints of water you would like to pour for each glass!\n",
      "Amount (pints): 0.2 0.1 0.2\n",
      "[0.2 0.1 0.2]\n",
      "[array([0., 0., 0.]), array([0.2, 0.1, 0.2])]\n",
      "Beth's turn!\n",
      "[0.  0.1 0. ]\n",
      "[array([0., 0., 0.]), array([0.2, 0.1, 0.2]), array([0. , 0.1, 0. ])]\n",
      "[0.  0.1 0. ]\n",
      "Ali's turn!\n",
      "Ali, please enter the amount of pints of water you would like to pour for each glass!\n",
      "Amount (pints): 0.2 0.1 0.2\n",
      "[0.2 0.2 0.2]\n",
      "[array([0., 0., 0.]), array([0.2, 0.1, 0.2]), array([0. , 0.1, 0. ]), array([0.2, 0.2, 0.2])]\n",
      "Beth's turn!\n",
      "[0.  0.  0.2]\n",
      "[array([0., 0., 0.]), array([0.2, 0.1, 0.2]), array([0. , 0.1, 0. ]), array([0.2, 0.2, 0.2]), array([0. , 0. , 0.2])]\n",
      "[0.  0.  0.2]\n",
      "Ali's turn!\n",
      "Ali, please enter the amount of pints of water you would like to pour for each glass!\n",
      "Amount (pints): 0.23 0.23 0.06\n",
      "Invalid Entry! The sum of the amount should be 0.5!\n",
      "Please try again.\n",
      "[0.  0.  0.2]\n",
      "[array([0., 0., 0.]), array([0.2, 0.1, 0.2]), array([0. , 0.1, 0. ]), array([0.2, 0.2, 0.2]), array([0. , 0. , 0.2]), array([0. , 0. , 0.2])]\n",
      "Beth's turn!\n",
      "[0. 0. 0.]\n",
      "[array([0., 0., 0.]), array([0.2, 0.1, 0.2]), array([0. , 0.1, 0. ]), array([0.2, 0.2, 0.2]), array([0. , 0. , 0.2]), array([0. , 0. , 0.2]), array([0., 0., 0.])]\n",
      "[array([0., 0., 0.]), array([0.2, 0.1, 0.2]), array([0. , 0.1, 0. ]), array([0.2, 0.2, 0.2]), array([0. , 0. , 0.2]), array([0. , 0. , 0.2]), array([0., 0., 0.])]\n",
      "The winner is ...\n",
      "2\n"
     ]
    },
    {
     "data": {
      "text/plain": [
       "'Beth'"
      ]
     },
     "execution_count": 17,
     "metadata": {},
     "output_type": "execute_result"
    }
   ],
   "source": [
    "def game(n):\n",
    "    # Start game with Ali, where Beth is a bot as mentioned in the entry phase\n",
    "    # Initialise the glasses in circular arrangement\n",
    "    circle = np.zeros(n)\n",
    "    #Initialise history array which stores each position after every turn\n",
    "    history = [circle.copy()]\n",
    "    print(history)\n",
    "    # Initialise neighbours list to keep track of the neighbours of each glass\n",
    "    # adj = neighbours(circle)\n",
    "    \n",
    "    Play = True\n",
    "    Winner = 0\n",
    "    while Play: # For each turn: \n",
    "        # Ali goes first\n",
    "        print(circle)\n",
    "        print(\"Ali's turn!\")\n",
    "        new = Ali(circle)\n",
    "        \n",
    "        # Check if Ali won\n",
    "        if CheckMate(circle):\n",
    "            Winner = 1\n",
    "            Play = False\n",
    "        \n",
    "        print(circle)\n",
    "        history.append(circle.copy())\n",
    "        print(history)\n",
    "        # Beth's move, but Beth is a bot with predefined strategies as in the rubric\n",
    "        print(\"Beth's turn!\")\n",
    "        circle = Beth(circle)\n",
    "        \n",
    "        print(circle)\n",
    "        history.append(circle.copy())\n",
    "        print(history)\n",
    "        # Check if Beth won\n",
    "        for i in range(len(history) - 1):\n",
    "            if Equal(circle, history[i]):\n",
    "                print(history)\n",
    "                Winner = 2\n",
    "                Play = False\n",
    "                \n",
    "    # Delivering the final message when the game ends\n",
    "    Players = [\"Ali\", \"Beth\"]\n",
    "    print(\"The winner is ...\")\n",
    "    print(Winner)\n",
    "    return Players[Winner-1]\n",
    "\n",
    "game(3)"
   ]
  },
  {
   "cell_type": "code",
   "execution_count": null,
   "id": "657da368",
   "metadata": {},
   "outputs": [],
   "source": []
  }
 ],
 "metadata": {
  "kernelspec": {
   "display_name": "Python 3 (ipykernel)",
   "language": "python",
   "name": "python3"
  },
  "language_info": {
   "codemirror_mode": {
    "name": "ipython",
    "version": 3
   },
   "file_extension": ".py",
   "mimetype": "text/x-python",
   "name": "python",
   "nbconvert_exporter": "python",
   "pygments_lexer": "ipython3",
   "version": "3.9.18"
  }
 },
 "nbformat": 4,
 "nbformat_minor": 5
}
